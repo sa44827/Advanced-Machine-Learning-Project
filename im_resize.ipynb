{
 "cells": [
  {
   "cell_type": "code",
   "execution_count": 5,
   "metadata": {},
   "outputs": [],
   "source": [
    "import os\n",
    "import pandas as pd\n",
    "import numpy as np\n",
    "from tqdm import tqdm\n",
    "import cv2"
   ]
  },
  {
   "cell_type": "code",
   "execution_count": 6,
   "metadata": {},
   "outputs": [
    {
     "data": {
      "text/html": [
       "<div>\n",
       "<style scoped>\n",
       "    .dataframe tbody tr th:only-of-type {\n",
       "        vertical-align: middle;\n",
       "    }\n",
       "\n",
       "    .dataframe tbody tr th {\n",
       "        vertical-align: top;\n",
       "    }\n",
       "\n",
       "    .dataframe thead th {\n",
       "        text-align: right;\n",
       "    }\n",
       "</style>\n",
       "<table border=\"1\" class=\"dataframe\">\n",
       "  <thead>\n",
       "    <tr style=\"text-align: right;\">\n",
       "      <th></th>\n",
       "      <th>Hotel</th>\n",
       "      <th>n_images</th>\n",
       "    </tr>\n",
       "  </thead>\n",
       "  <tbody>\n",
       "    <tr>\n",
       "      <th>0</th>\n",
       "      <td>76693</td>\n",
       "      <td>1393</td>\n",
       "    </tr>\n",
       "    <tr>\n",
       "      <th>1</th>\n",
       "      <td>87937</td>\n",
       "      <td>970</td>\n",
       "    </tr>\n",
       "    <tr>\n",
       "      <th>2</th>\n",
       "      <td>24700</td>\n",
       "      <td>632</td>\n",
       "    </tr>\n",
       "    <tr>\n",
       "      <th>3</th>\n",
       "      <td>81786</td>\n",
       "      <td>552</td>\n",
       "    </tr>\n",
       "    <tr>\n",
       "      <th>4</th>\n",
       "      <td>10129</td>\n",
       "      <td>399</td>\n",
       "    </tr>\n",
       "  </tbody>\n",
       "</table>\n",
       "</div>"
      ],
      "text/plain": [
       "   Hotel  n_images\n",
       "0  76693      1393\n",
       "1  87937       970\n",
       "2  24700       632\n",
       "3  81786       552\n",
       "4  10129       399"
      ]
     },
     "execution_count": 6,
     "metadata": {},
     "output_type": "execute_result"
    }
   ],
   "source": [
    "summary = pd.read_csv(\"Support Files/summary.csv\")\n",
    "summary = summary[:30]\n",
    "summary.head()"
   ]
  },
  {
   "cell_type": "code",
   "execution_count": 7,
   "metadata": {},
   "outputs": [
    {
     "name": "stderr",
     "output_type": "stream",
     "text": [
      "Converting images for 90127 - 000013507.jpg: 100%|██████████| 30/30 [03:17<00:00,  6.58s/it] \n"
     ]
    }
   ],
   "source": [
    "for hotel in (pbar:= tqdm(summary[\"Hotel\"])):\n",
    "    path = \"Data_Raw/train_images/\" + str(hotel)\n",
    "\n",
    "    images = os.listdir(path)\n",
    "    images = [image for image in images if str(image)[0] != \".\" ]\n",
    "    \n",
    "    try:\n",
    "        os.mkdir(\"IM_Resize\")\n",
    "    except FileExistsError:\n",
    "        pass\n",
    "\n",
    "    try:\n",
    "        os.mkdir(\"IM_Resize/images\")\n",
    "    except FileExistsError:\n",
    "        pass\n",
    "\n",
    "    try:\n",
    "        dir_path = \"IM_Resize/images/\" + str(hotel)\n",
    "        os.mkdir(dir_path)\n",
    "    except FileExistsError:\n",
    "        pass\n",
    "\n",
    "    for image in images:\n",
    "        pbar.set_description(f\"Converting images for {hotel} - {image}\")\n",
    "        im_path = path + \"/\" + str(image)\n",
    "        write_path = \"IM_Resize/images/\" + str(hotel) + \"/\" + str(image)\n",
    "        image = cv2.imread(im_path)\n",
    "        new_image = cv2.resize(image, (1024, 1024))\n",
    "        cv2.imwrite(write_path, new_image)"
   ]
  },
  {
   "cell_type": "code",
   "execution_count": 14,
   "metadata": {},
   "outputs": [
    {
     "name": "stderr",
     "output_type": "stream",
     "text": [
      "Converting image 00000.png:   0%|          | 0/4950 [00:00<?, ?it/s]"
     ]
    },
    {
     "name": "stderr",
     "output_type": "stream",
     "text": [
      "Converting image 05238.png: 100%|██████████| 4950/4950 [04:28<00:00, 18.42it/s]\n"
     ]
    }
   ],
   "source": [
    "path = \"Data_Raw/train_masks/\"\n",
    "\n",
    "images = os.listdir(path)\n",
    "images = [image for image in images if str(image)[0] != \".\" ]\n",
    "\n",
    "for image in (pbar:= tqdm(images)):  \n",
    "    try:\n",
    "        os.mkdir(\"IM_Resize\")\n",
    "    except FileExistsError:\n",
    "        pass\n",
    "\n",
    "    try:\n",
    "        os.mkdir(\"IM_Resize/masks\")\n",
    "    except FileExistsError:\n",
    "        pass\n",
    "    \n",
    "    pbar.set_description(f\"Converting image {image}\")\n",
    "    im_path = path + \"/\" + str(image)\n",
    "    write_path = \"IM_Resize/masks/\" + str(image)\n",
    "    image = cv2.imread(im_path)\n",
    "    new_image = cv2.resize(image, (1024, 1024))\n",
    "    cv2.imwrite(write_path, new_image)"
   ]
  }
 ],
 "metadata": {
  "kernelspec": {
   "display_name": "Python 3",
   "language": "python",
   "name": "python3"
  },
  "language_info": {
   "codemirror_mode": {
    "name": "ipython",
    "version": 3
   },
   "file_extension": ".py",
   "mimetype": "text/x-python",
   "name": "python",
   "nbconvert_exporter": "python",
   "pygments_lexer": "ipython3",
   "version": "3.10.11"
  }
 },
 "nbformat": 4,
 "nbformat_minor": 2
}
