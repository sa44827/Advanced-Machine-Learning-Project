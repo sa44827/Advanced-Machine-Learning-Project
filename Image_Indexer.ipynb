{
 "cells": [
  {
   "cell_type": "code",
   "execution_count": 1,
   "metadata": {},
   "outputs": [],
   "source": [
    "from PIL import Image\n",
    "import os\n",
    "import pandas as pd\n",
    "import numpy as np\n",
    "from tqdm import tqdm"
   ]
  },
  {
   "cell_type": "code",
   "execution_count": 2,
   "metadata": {},
   "outputs": [],
   "source": [
    "import numpy as np\n",
    "from PIL import Image\n",
    "\n",
    "def load_and_invert_mask(mask_path):\n",
    "    mask = Image.open(mask_path).convert(\"L\")\n",
    "    mask_array = np.array(mask)\n",
    "    \n",
    "    inverted_mask = 255 - mask_array\n",
    "\n",
    "    for i in range(len(inverted_mask)):\n",
    "        for j in range(len(inverted_mask[i])):\n",
    "            if inverted_mask[i][j] != 255:\n",
    "                inverted_mask[i][j] = 0\n",
    "    \n",
    "    return inverted_mask\n",
    "\n",
    "def apply_mask(image_path, mask, output_path):\n",
    "    image = Image.open(image_path)\n",
    "    image = image.convert(\"RGBA\")\n",
    "\n",
    "    alpha = np.full((image.height, image.width), 255, dtype=np.uint8)\n",
    "    alpha[mask == 0] = 0\n",
    "\n",
    "    result = Image.merge(\"RGBA\", (image.split()[:3] + (Image.fromarray(alpha),)))\n",
    "\n",
    "    result.save(output_path)"
   ]
  },
  {
   "cell_type": "code",
   "execution_count": 19,
   "metadata": {},
   "outputs": [
    {
     "name": "stderr",
     "output_type": "stream",
     "text": [
      "Indexing hotel 76693 image 0/1393 with mask 00064.png.                                   4891 remaining:   0%|          | 0/30 [00:00<?, ?it/s]"
     ]
    },
    {
     "name": "stderr",
     "output_type": "stream",
     "text": [
      "Indexing hotel 76693 image 5/1388 with mask 00006.png.                                   4944 remaining:   0%|          | 0/30 [00:14<?, ?it/s]\n"
     ]
    },
    {
     "ename": "KeyboardInterrupt",
     "evalue": "",
     "output_type": "error",
     "traceback": [
      "\u001b[0;31m---------------------------------------------------------------------------\u001b[0m",
      "\u001b[0;31mKeyboardInterrupt\u001b[0m                         Traceback (most recent call last)",
      "\u001b[1;32m/Volumes/Storage/Git Repos/AML/Image_prep.ipynb Cell 3\u001b[0m line \u001b[0;36m1\n\u001b[1;32m     <a href='vscode-notebook-cell:/Volumes/Storage/Git%20Repos/AML/Image_prep.ipynb#W4sZmlsZQ%3D%3D?line=16'>17</a>\u001b[0m count_mask \u001b[39m=\u001b[39m \u001b[39m0\u001b[39m\n\u001b[1;32m     <a href='vscode-notebook-cell:/Volumes/Storage/Git%20Repos/AML/Image_prep.ipynb#W4sZmlsZQ%3D%3D?line=17'>18</a>\u001b[0m \u001b[39mfor\u001b[39;00m mask_img \u001b[39min\u001b[39;00m mask_img_list:\n\u001b[0;32m---> <a href='vscode-notebook-cell:/Volumes/Storage/Git%20Repos/AML/Image_prep.ipynb#W4sZmlsZQ%3D%3D?line=18'>19</a>\u001b[0m     pbar\u001b[39m.\u001b[39;49mset_description(\u001b[39mf\u001b[39;49m\u001b[39m\"\u001b[39;49m\u001b[39mIndexing hotel \u001b[39;49m\u001b[39m{\u001b[39;49;00mhotel\u001b[39m}\u001b[39;49;00m\u001b[39m image \u001b[39;49m\u001b[39m{\u001b[39;49;00mcount_im\u001b[39m}\u001b[39;49;00m\u001b[39m/\u001b[39;49m\u001b[39m{\u001b[39;49;00m\u001b[39mlen\u001b[39;49m(images)\u001b[39m \u001b[39;49m\u001b[39m-\u001b[39;49m\u001b[39m \u001b[39;49mcount_im\u001b[39m}\u001b[39;49;00m\u001b[39m with mask \u001b[39;49m\u001b[39m{\u001b[39;49;00mmask_img\u001b[39m}\u001b[39;49;00m\u001b[39m. \u001b[39;49m\u001b[39m\\\u001b[39;49;00m\n\u001b[1;32m     <a href='vscode-notebook-cell:/Volumes/Storage/Git%20Repos/AML/Image_prep.ipynb#W4sZmlsZQ%3D%3D?line=19'>20</a>\u001b[0m \u001b[39m                          \u001b[39;49m\u001b[39m{\u001b[39;49;00m\u001b[39mlen\u001b[39;49m(mask_img_list)\u001b[39m \u001b[39;49m\u001b[39m-\u001b[39;49m\u001b[39m \u001b[39;49mcount_mask\u001b[39m}\u001b[39;49;00m\u001b[39m remaining\u001b[39;49m\u001b[39m\"\u001b[39;49m)\n\u001b[1;32m     <a href='vscode-notebook-cell:/Volumes/Storage/Git%20Repos/AML/Image_prep.ipynb#W4sZmlsZQ%3D%3D?line=20'>21</a>\u001b[0m     df\u001b[39m.\u001b[39mappend([hotel, image, mask_img])\n\u001b[1;32m     <a href='vscode-notebook-cell:/Volumes/Storage/Git%20Repos/AML/Image_prep.ipynb#W4sZmlsZQ%3D%3D?line=21'>22</a>\u001b[0m     count_mask \u001b[39m+\u001b[39m\u001b[39m=\u001b[39m \u001b[39m1\u001b[39m\n",
      "File \u001b[0;32m/Library/Frameworks/Python.framework/Versions/3.10/lib/python3.10/site-packages/tqdm/std.py:1395\u001b[0m, in \u001b[0;36mtqdm.set_description\u001b[0;34m(self, desc, refresh)\u001b[0m\n\u001b[1;32m   1393\u001b[0m \u001b[39mself\u001b[39m\u001b[39m.\u001b[39mdesc \u001b[39m=\u001b[39m desc \u001b[39m+\u001b[39m \u001b[39m'\u001b[39m\u001b[39m: \u001b[39m\u001b[39m'\u001b[39m \u001b[39mif\u001b[39;00m desc \u001b[39melse\u001b[39;00m \u001b[39m'\u001b[39m\u001b[39m'\u001b[39m\n\u001b[1;32m   1394\u001b[0m \u001b[39mif\u001b[39;00m refresh:\n\u001b[0;32m-> 1395\u001b[0m     \u001b[39mself\u001b[39;49m\u001b[39m.\u001b[39;49mrefresh()\n",
      "File \u001b[0;32m/Library/Frameworks/Python.framework/Versions/3.10/lib/python3.10/site-packages/tqdm/std.py:1348\u001b[0m, in \u001b[0;36mtqdm.refresh\u001b[0;34m(self, nolock, lock_args)\u001b[0m\n\u001b[1;32m   1346\u001b[0m     \u001b[39melse\u001b[39;00m:\n\u001b[1;32m   1347\u001b[0m         \u001b[39mself\u001b[39m\u001b[39m.\u001b[39m_lock\u001b[39m.\u001b[39macquire()\n\u001b[0;32m-> 1348\u001b[0m \u001b[39mself\u001b[39;49m\u001b[39m.\u001b[39;49mdisplay()\n\u001b[1;32m   1349\u001b[0m \u001b[39mif\u001b[39;00m \u001b[39mnot\u001b[39;00m nolock:\n\u001b[1;32m   1350\u001b[0m     \u001b[39mself\u001b[39m\u001b[39m.\u001b[39m_lock\u001b[39m.\u001b[39mrelease()\n",
      "File \u001b[0;32m/Library/Frameworks/Python.framework/Versions/3.10/lib/python3.10/site-packages/tqdm/std.py:1496\u001b[0m, in \u001b[0;36mtqdm.display\u001b[0;34m(self, msg, pos)\u001b[0m\n\u001b[1;32m   1494\u001b[0m \u001b[39mif\u001b[39;00m pos:\n\u001b[1;32m   1495\u001b[0m     \u001b[39mself\u001b[39m\u001b[39m.\u001b[39mmoveto(pos)\n\u001b[0;32m-> 1496\u001b[0m \u001b[39mself\u001b[39;49m\u001b[39m.\u001b[39;49msp(\u001b[39mself\u001b[39;49m\u001b[39m.\u001b[39;49m\u001b[39m__str__\u001b[39;49m() \u001b[39mif\u001b[39;49;00m msg \u001b[39mis\u001b[39;49;00m \u001b[39mNone\u001b[39;49;00m \u001b[39melse\u001b[39;49;00m msg)\n\u001b[1;32m   1497\u001b[0m \u001b[39mif\u001b[39;00m pos:\n\u001b[1;32m   1498\u001b[0m     \u001b[39mself\u001b[39m\u001b[39m.\u001b[39mmoveto(\u001b[39m-\u001b[39mpos)\n",
      "File \u001b[0;32m/Library/Frameworks/Python.framework/Versions/3.10/lib/python3.10/site-packages/tqdm/std.py:462\u001b[0m, in \u001b[0;36mtqdm.status_printer.<locals>.print_status\u001b[0;34m(s)\u001b[0m\n\u001b[1;32m    460\u001b[0m \u001b[39mdef\u001b[39;00m \u001b[39mprint_status\u001b[39m(s):\n\u001b[1;32m    461\u001b[0m     len_s \u001b[39m=\u001b[39m disp_len(s)\n\u001b[0;32m--> 462\u001b[0m     fp_write(\u001b[39m'\u001b[39;49m\u001b[39m\\r\u001b[39;49;00m\u001b[39m'\u001b[39;49m \u001b[39m+\u001b[39;49m s \u001b[39m+\u001b[39;49m (\u001b[39m'\u001b[39;49m\u001b[39m \u001b[39;49m\u001b[39m'\u001b[39;49m \u001b[39m*\u001b[39;49m \u001b[39mmax\u001b[39;49m(last_len[\u001b[39m0\u001b[39;49m] \u001b[39m-\u001b[39;49m len_s, \u001b[39m0\u001b[39;49m)))\n\u001b[1;32m    463\u001b[0m     last_len[\u001b[39m0\u001b[39m] \u001b[39m=\u001b[39m len_s\n",
      "File \u001b[0;32m/Library/Frameworks/Python.framework/Versions/3.10/lib/python3.10/site-packages/tqdm/std.py:456\u001b[0m, in \u001b[0;36mtqdm.status_printer.<locals>.fp_write\u001b[0;34m(s)\u001b[0m\n\u001b[1;32m    454\u001b[0m \u001b[39mdef\u001b[39;00m \u001b[39mfp_write\u001b[39m(s):\n\u001b[1;32m    455\u001b[0m     fp\u001b[39m.\u001b[39mwrite(\u001b[39mstr\u001b[39m(s))\n\u001b[0;32m--> 456\u001b[0m     fp_flush()\n",
      "File \u001b[0;32m/Library/Frameworks/Python.framework/Versions/3.10/lib/python3.10/site-packages/tqdm/utils.py:195\u001b[0m, in \u001b[0;36mDisableOnWriteError.disable_on_exception.<locals>.inner\u001b[0;34m(*args, **kwargs)\u001b[0m\n\u001b[1;32m    193\u001b[0m \u001b[39mdef\u001b[39;00m \u001b[39minner\u001b[39m(\u001b[39m*\u001b[39margs, \u001b[39m*\u001b[39m\u001b[39m*\u001b[39mkwargs):\n\u001b[1;32m    194\u001b[0m     \u001b[39mtry\u001b[39;00m:\n\u001b[0;32m--> 195\u001b[0m         \u001b[39mreturn\u001b[39;00m func(\u001b[39m*\u001b[39;49margs, \u001b[39m*\u001b[39;49m\u001b[39m*\u001b[39;49mkwargs)\n\u001b[1;32m    196\u001b[0m     \u001b[39mexcept\u001b[39;00m \u001b[39mOSError\u001b[39;00m \u001b[39mas\u001b[39;00m e:\n\u001b[1;32m    197\u001b[0m         \u001b[39mif\u001b[39;00m e\u001b[39m.\u001b[39merrno \u001b[39m!=\u001b[39m \u001b[39m5\u001b[39m:\n",
      "File \u001b[0;32m~/Library/Python/3.10/lib/python/site-packages/ipykernel/iostream.py:564\u001b[0m, in \u001b[0;36mOutStream.flush\u001b[0;34m(self)\u001b[0m\n\u001b[1;32m    562\u001b[0m     \u001b[39mself\u001b[39m\u001b[39m.\u001b[39mpub_thread\u001b[39m.\u001b[39mschedule(evt\u001b[39m.\u001b[39mset)\n\u001b[1;32m    563\u001b[0m     \u001b[39m# and give a timeout to avoid\u001b[39;00m\n\u001b[0;32m--> 564\u001b[0m     \u001b[39mif\u001b[39;00m \u001b[39mnot\u001b[39;00m evt\u001b[39m.\u001b[39;49mwait(\u001b[39mself\u001b[39;49m\u001b[39m.\u001b[39;49mflush_timeout):\n\u001b[1;32m    565\u001b[0m         \u001b[39m# write directly to __stderr__ instead of warning because\u001b[39;00m\n\u001b[1;32m    566\u001b[0m         \u001b[39m# if this is happening sys.stderr may be the problem.\u001b[39;00m\n\u001b[1;32m    567\u001b[0m         \u001b[39mprint\u001b[39m(\u001b[39m\"\u001b[39m\u001b[39mIOStream.flush timed out\u001b[39m\u001b[39m\"\u001b[39m, file\u001b[39m=\u001b[39msys\u001b[39m.\u001b[39m__stderr__)\n\u001b[1;32m    568\u001b[0m \u001b[39melse\u001b[39;00m:\n",
      "File \u001b[0;32m/Library/Frameworks/Python.framework/Versions/3.10/lib/python3.10/threading.py:607\u001b[0m, in \u001b[0;36mEvent.wait\u001b[0;34m(self, timeout)\u001b[0m\n\u001b[1;32m    605\u001b[0m signaled \u001b[39m=\u001b[39m \u001b[39mself\u001b[39m\u001b[39m.\u001b[39m_flag\n\u001b[1;32m    606\u001b[0m \u001b[39mif\u001b[39;00m \u001b[39mnot\u001b[39;00m signaled:\n\u001b[0;32m--> 607\u001b[0m     signaled \u001b[39m=\u001b[39m \u001b[39mself\u001b[39;49m\u001b[39m.\u001b[39;49m_cond\u001b[39m.\u001b[39;49mwait(timeout)\n\u001b[1;32m    608\u001b[0m \u001b[39mreturn\u001b[39;00m signaled\n",
      "File \u001b[0;32m/Library/Frameworks/Python.framework/Versions/3.10/lib/python3.10/threading.py:324\u001b[0m, in \u001b[0;36mCondition.wait\u001b[0;34m(self, timeout)\u001b[0m\n\u001b[1;32m    322\u001b[0m \u001b[39melse\u001b[39;00m:\n\u001b[1;32m    323\u001b[0m     \u001b[39mif\u001b[39;00m timeout \u001b[39m>\u001b[39m \u001b[39m0\u001b[39m:\n\u001b[0;32m--> 324\u001b[0m         gotit \u001b[39m=\u001b[39m waiter\u001b[39m.\u001b[39;49macquire(\u001b[39mTrue\u001b[39;49;00m, timeout)\n\u001b[1;32m    325\u001b[0m     \u001b[39melse\u001b[39;00m:\n\u001b[1;32m    326\u001b[0m         gotit \u001b[39m=\u001b[39m waiter\u001b[39m.\u001b[39macquire(\u001b[39mFalse\u001b[39;00m)\n",
      "\u001b[0;31mKeyboardInterrupt\u001b[0m: "
     ]
    }
   ],
   "source": [
    "mask_img_list = os.listdir(\"IM_Resize/masks/\")\n",
    "mask_img_list = [image for image in mask_img_list if str(image)[0] != \".\" ]\n",
    "\n",
    "hotels = os.listdir(\"IM_Resize/images/\")\n",
    "hotels = [hotel for hotel in hotels if str(hotel)[0] != \".\" ]\n",
    "\n",
    "test_size = 0.2\n",
    "val_size = 0.15\n",
    "for hotel in (pbar:= tqdm(hotels)):\n",
    "    df = []\n",
    "    pbar.set_description(f\"Indexing hotel {hotel}\")\n",
    "    images = os.listdir(\"IM_Resize/images/\" + str(hotel) + \"/\")\n",
    "    images = [image for image in images if str(image)[0] != \".\" ]\n",
    "\n",
    "    count_im = 0\n",
    "    for image in images:\n",
    "        count_mask = 0\n",
    "        for mask_img in mask_img_list:\n",
    "            pbar.set_description(f\"Indexing hotel {hotel} image {count_im}/{len(images) - count_im} with mask {mask_img}. \\\n",
    "                                  {len(mask_img_list) - count_mask} remaining\")\n",
    "            df.append([hotel, image, mask_img])\n",
    "            count_mask += 1\n",
    "        count_im += 1\n",
    "    \n",
    "    df = pd.DataFrame(df, columns=['Hotel', 'Image', 'Mask_Image'])\n",
    "    df[\"Combined\"] = df[\"Hotel\"] + \"/\" + df[\"Image\"] + \"/\" + df[\"Mask_Image\"]\n",
    "    df.to_csv(\"Support Files/masking_summary.csv\", index=False, mode='a')\n",
    "\n",
    "    hotel = list(df[\"Hotel\"].unique())[0]\n",
    "    hotel_images = list(df.loc[df[\"Hotel\"] == str(hotel)]['Combined'])\n",
    "    test_images = np.random.choice(hotel_images, int(len(hotel_images)*test_size), replace=False)\n",
    "    train_images = list(set(hotel_images) - set(test_images))\n",
    "\n",
    "    val_images = np.random.choice(train_images, int(len(hotel_images)*val_size), replace=False)\n",
    "    train_images = list(set(train_images) - set(val_images))\n",
    "\n",
    "    count = 0\n",
    "    for c_image in train_images:\n",
    "        pbar.set_description(f\"Creating mask for train pair {c_image}\")\n",
    "        c_image = c_image.split(\"/\")\n",
    "        hotel = c_image[0]\n",
    "        h_image = c_image[1]\n",
    "        mask = c_image[2]\n",
    "\n",
    "        try:\n",
    "            os.mkdir(\"HotelTraffickingData\")\n",
    "        except FileExistsError:\n",
    "            pass\n",
    "\n",
    "        try:\n",
    "            os.mkdir(\"HotelTraffickingData/train\")\n",
    "        except FileExistsError:\n",
    "            pass\n",
    "\n",
    "        try:\n",
    "            os.mkdir(\"HotelTraffickingData/\" + str(hotel))\n",
    "        except FileExistsError:\n",
    "            pass\n",
    "        \n",
    "        mask_path = \"IM_Resize/masks/\" + str(mask)\n",
    "        image_path = \"IM_Resize/images/\" + str(h_image)\n",
    "        write_path = \"HotelTraffickingData/train/\" + str(hotel) + str(f\"{count}.png\")\n",
    "        \n",
    "        loaded_mask = load_and_invert_mask(mask_path)\n",
    "        apply_mask(image_path, loaded_mask, \"masked_image.png\")\n",
    "        break\n",
    "    break"
   ]
  },
  {
   "cell_type": "code",
   "execution_count": 13,
   "metadata": {},
   "outputs": [
    {
     "name": "stdout",
     "output_type": "stream",
     "text": [
      "76693 000041632.jpg 04102.png\n"
     ]
    }
   ],
   "source": [
    "print(hotel, h_image, mask)\n",
    "# df"
   ]
  },
  {
   "cell_type": "code",
   "execution_count": 11,
   "metadata": {},
   "outputs": [
    {
     "name": "stdout",
     "output_type": "stream",
     "text": [
      "6895350\n",
      "4481978\n",
      "1034302\n",
      "1379070\n"
     ]
    },
    {
     "data": {
      "text/plain": [
       "6895350"
      ]
     },
     "execution_count": 11,
     "metadata": {},
     "output_type": "execute_result"
    }
   ],
   "source": [
    "print(len(hotel_images))\n",
    "print(len(train_images))\n",
    "print(len(val_images))\n",
    "print(len(test_images))\n",
    "\n",
    "len(train_images)+len(val_images)+len(test_images)"
   ]
  },
  {
   "cell_type": "code",
   "execution_count": 6,
   "metadata": {},
   "outputs": [
    {
     "name": "stderr",
     "output_type": "stream",
     "text": [
      "Creating mask for train pair 76693/000041249.jpg/01056.png:   0%|          | 0/1 [00:50<?, ?it/s]\n"
     ]
    },
    {
     "ename": "KeyboardInterrupt",
     "evalue": "",
     "output_type": "error",
     "traceback": [
      "\u001b[0;31m---------------------------------------------------------------------------\u001b[0m",
      "\u001b[0;31mKeyboardInterrupt\u001b[0m                         Traceback (most recent call last)",
      "\u001b[1;32m/Volumes/Storage/Git Repos/AML/Image_prep.ipynb Cell 4\u001b[0m line \u001b[0;36m1\n\u001b[1;32m     <a href='vscode-notebook-cell:/Volumes/Storage/Git%20Repos/AML/Image_prep.ipynb#W6sZmlsZQ%3D%3D?line=10'>11</a>\u001b[0m train_images \u001b[39m=\u001b[39m \u001b[39mlist\u001b[39m(\u001b[39mset\u001b[39m(train_images) \u001b[39m-\u001b[39m \u001b[39mset\u001b[39m(val_images))\n\u001b[1;32m     <a href='vscode-notebook-cell:/Volumes/Storage/Git%20Repos/AML/Image_prep.ipynb#W6sZmlsZQ%3D%3D?line=12'>13</a>\u001b[0m \u001b[39mfor\u001b[39;00m image \u001b[39min\u001b[39;00m train_images:\n\u001b[0;32m---> <a href='vscode-notebook-cell:/Volumes/Storage/Git%20Repos/AML/Image_prep.ipynb#W6sZmlsZQ%3D%3D?line=13'>14</a>\u001b[0m     pbar\u001b[39m.\u001b[39;49mset_description(\u001b[39mf\u001b[39;49m\u001b[39m\"\u001b[39;49m\u001b[39mCreating mask for train pair \u001b[39;49m\u001b[39m{\u001b[39;49;00mimage\u001b[39m}\u001b[39;49;00m\u001b[39m\"\u001b[39;49m)\n\u001b[1;32m     <a href='vscode-notebook-cell:/Volumes/Storage/Git%20Repos/AML/Image_prep.ipynb#W6sZmlsZQ%3D%3D?line=14'>15</a>\u001b[0m     image \u001b[39m=\u001b[39m image\u001b[39m.\u001b[39msplit(\u001b[39m\"\u001b[39m\u001b[39m/\u001b[39m\u001b[39m\"\u001b[39m)\n\u001b[1;32m     <a href='vscode-notebook-cell:/Volumes/Storage/Git%20Repos/AML/Image_prep.ipynb#W6sZmlsZQ%3D%3D?line=15'>16</a>\u001b[0m     hotel \u001b[39m=\u001b[39m image[\u001b[39m0\u001b[39m]\n",
      "File \u001b[0;32m/Library/Frameworks/Python.framework/Versions/3.10/lib/python3.10/site-packages/tqdm/std.py:1395\u001b[0m, in \u001b[0;36mtqdm.set_description\u001b[0;34m(self, desc, refresh)\u001b[0m\n\u001b[1;32m   1393\u001b[0m \u001b[39mself\u001b[39m\u001b[39m.\u001b[39mdesc \u001b[39m=\u001b[39m desc \u001b[39m+\u001b[39m \u001b[39m'\u001b[39m\u001b[39m: \u001b[39m\u001b[39m'\u001b[39m \u001b[39mif\u001b[39;00m desc \u001b[39melse\u001b[39;00m \u001b[39m'\u001b[39m\u001b[39m'\u001b[39m\n\u001b[1;32m   1394\u001b[0m \u001b[39mif\u001b[39;00m refresh:\n\u001b[0;32m-> 1395\u001b[0m     \u001b[39mself\u001b[39;49m\u001b[39m.\u001b[39;49mrefresh()\n",
      "File \u001b[0;32m/Library/Frameworks/Python.framework/Versions/3.10/lib/python3.10/site-packages/tqdm/std.py:1348\u001b[0m, in \u001b[0;36mtqdm.refresh\u001b[0;34m(self, nolock, lock_args)\u001b[0m\n\u001b[1;32m   1346\u001b[0m     \u001b[39melse\u001b[39;00m:\n\u001b[1;32m   1347\u001b[0m         \u001b[39mself\u001b[39m\u001b[39m.\u001b[39m_lock\u001b[39m.\u001b[39macquire()\n\u001b[0;32m-> 1348\u001b[0m \u001b[39mself\u001b[39;49m\u001b[39m.\u001b[39;49mdisplay()\n\u001b[1;32m   1349\u001b[0m \u001b[39mif\u001b[39;00m \u001b[39mnot\u001b[39;00m nolock:\n\u001b[1;32m   1350\u001b[0m     \u001b[39mself\u001b[39m\u001b[39m.\u001b[39m_lock\u001b[39m.\u001b[39mrelease()\n",
      "File \u001b[0;32m/Library/Frameworks/Python.framework/Versions/3.10/lib/python3.10/site-packages/tqdm/std.py:1496\u001b[0m, in \u001b[0;36mtqdm.display\u001b[0;34m(self, msg, pos)\u001b[0m\n\u001b[1;32m   1494\u001b[0m \u001b[39mif\u001b[39;00m pos:\n\u001b[1;32m   1495\u001b[0m     \u001b[39mself\u001b[39m\u001b[39m.\u001b[39mmoveto(pos)\n\u001b[0;32m-> 1496\u001b[0m \u001b[39mself\u001b[39;49m\u001b[39m.\u001b[39;49msp(\u001b[39mself\u001b[39;49m\u001b[39m.\u001b[39;49m\u001b[39m__str__\u001b[39;49m() \u001b[39mif\u001b[39;49;00m msg \u001b[39mis\u001b[39;49;00m \u001b[39mNone\u001b[39;49;00m \u001b[39melse\u001b[39;49;00m msg)\n\u001b[1;32m   1497\u001b[0m \u001b[39mif\u001b[39;00m pos:\n\u001b[1;32m   1498\u001b[0m     \u001b[39mself\u001b[39m\u001b[39m.\u001b[39mmoveto(\u001b[39m-\u001b[39mpos)\n",
      "File \u001b[0;32m/Library/Frameworks/Python.framework/Versions/3.10/lib/python3.10/site-packages/tqdm/std.py:462\u001b[0m, in \u001b[0;36mtqdm.status_printer.<locals>.print_status\u001b[0;34m(s)\u001b[0m\n\u001b[1;32m    460\u001b[0m \u001b[39mdef\u001b[39;00m \u001b[39mprint_status\u001b[39m(s):\n\u001b[1;32m    461\u001b[0m     len_s \u001b[39m=\u001b[39m disp_len(s)\n\u001b[0;32m--> 462\u001b[0m     fp_write(\u001b[39m'\u001b[39;49m\u001b[39m\\r\u001b[39;49;00m\u001b[39m'\u001b[39;49m \u001b[39m+\u001b[39;49m s \u001b[39m+\u001b[39;49m (\u001b[39m'\u001b[39;49m\u001b[39m \u001b[39;49m\u001b[39m'\u001b[39;49m \u001b[39m*\u001b[39;49m \u001b[39mmax\u001b[39;49m(last_len[\u001b[39m0\u001b[39;49m] \u001b[39m-\u001b[39;49m len_s, \u001b[39m0\u001b[39;49m)))\n\u001b[1;32m    463\u001b[0m     last_len[\u001b[39m0\u001b[39m] \u001b[39m=\u001b[39m len_s\n",
      "File \u001b[0;32m/Library/Frameworks/Python.framework/Versions/3.10/lib/python3.10/site-packages/tqdm/std.py:456\u001b[0m, in \u001b[0;36mtqdm.status_printer.<locals>.fp_write\u001b[0;34m(s)\u001b[0m\n\u001b[1;32m    454\u001b[0m \u001b[39mdef\u001b[39;00m \u001b[39mfp_write\u001b[39m(s):\n\u001b[1;32m    455\u001b[0m     fp\u001b[39m.\u001b[39mwrite(\u001b[39mstr\u001b[39m(s))\n\u001b[0;32m--> 456\u001b[0m     fp_flush()\n",
      "File \u001b[0;32m/Library/Frameworks/Python.framework/Versions/3.10/lib/python3.10/site-packages/tqdm/utils.py:195\u001b[0m, in \u001b[0;36mDisableOnWriteError.disable_on_exception.<locals>.inner\u001b[0;34m(*args, **kwargs)\u001b[0m\n\u001b[1;32m    193\u001b[0m \u001b[39mdef\u001b[39;00m \u001b[39minner\u001b[39m(\u001b[39m*\u001b[39margs, \u001b[39m*\u001b[39m\u001b[39m*\u001b[39mkwargs):\n\u001b[1;32m    194\u001b[0m     \u001b[39mtry\u001b[39;00m:\n\u001b[0;32m--> 195\u001b[0m         \u001b[39mreturn\u001b[39;00m func(\u001b[39m*\u001b[39;49margs, \u001b[39m*\u001b[39;49m\u001b[39m*\u001b[39;49mkwargs)\n\u001b[1;32m    196\u001b[0m     \u001b[39mexcept\u001b[39;00m \u001b[39mOSError\u001b[39;00m \u001b[39mas\u001b[39;00m e:\n\u001b[1;32m    197\u001b[0m         \u001b[39mif\u001b[39;00m e\u001b[39m.\u001b[39merrno \u001b[39m!=\u001b[39m \u001b[39m5\u001b[39m:\n",
      "File \u001b[0;32m~/Library/Python/3.10/lib/python/site-packages/ipykernel/iostream.py:564\u001b[0m, in \u001b[0;36mOutStream.flush\u001b[0;34m(self)\u001b[0m\n\u001b[1;32m    562\u001b[0m     \u001b[39mself\u001b[39m\u001b[39m.\u001b[39mpub_thread\u001b[39m.\u001b[39mschedule(evt\u001b[39m.\u001b[39mset)\n\u001b[1;32m    563\u001b[0m     \u001b[39m# and give a timeout to avoid\u001b[39;00m\n\u001b[0;32m--> 564\u001b[0m     \u001b[39mif\u001b[39;00m \u001b[39mnot\u001b[39;00m evt\u001b[39m.\u001b[39;49mwait(\u001b[39mself\u001b[39;49m\u001b[39m.\u001b[39;49mflush_timeout):\n\u001b[1;32m    565\u001b[0m         \u001b[39m# write directly to __stderr__ instead of warning because\u001b[39;00m\n\u001b[1;32m    566\u001b[0m         \u001b[39m# if this is happening sys.stderr may be the problem.\u001b[39;00m\n\u001b[1;32m    567\u001b[0m         \u001b[39mprint\u001b[39m(\u001b[39m\"\u001b[39m\u001b[39mIOStream.flush timed out\u001b[39m\u001b[39m\"\u001b[39m, file\u001b[39m=\u001b[39msys\u001b[39m.\u001b[39m__stderr__)\n\u001b[1;32m    568\u001b[0m \u001b[39melse\u001b[39;00m:\n",
      "File \u001b[0;32m/Library/Frameworks/Python.framework/Versions/3.10/lib/python3.10/threading.py:607\u001b[0m, in \u001b[0;36mEvent.wait\u001b[0;34m(self, timeout)\u001b[0m\n\u001b[1;32m    605\u001b[0m signaled \u001b[39m=\u001b[39m \u001b[39mself\u001b[39m\u001b[39m.\u001b[39m_flag\n\u001b[1;32m    606\u001b[0m \u001b[39mif\u001b[39;00m \u001b[39mnot\u001b[39;00m signaled:\n\u001b[0;32m--> 607\u001b[0m     signaled \u001b[39m=\u001b[39m \u001b[39mself\u001b[39;49m\u001b[39m.\u001b[39;49m_cond\u001b[39m.\u001b[39;49mwait(timeout)\n\u001b[1;32m    608\u001b[0m \u001b[39mreturn\u001b[39;00m signaled\n",
      "File \u001b[0;32m/Library/Frameworks/Python.framework/Versions/3.10/lib/python3.10/threading.py:324\u001b[0m, in \u001b[0;36mCondition.wait\u001b[0;34m(self, timeout)\u001b[0m\n\u001b[1;32m    322\u001b[0m \u001b[39melse\u001b[39;00m:\n\u001b[1;32m    323\u001b[0m     \u001b[39mif\u001b[39;00m timeout \u001b[39m>\u001b[39m \u001b[39m0\u001b[39m:\n\u001b[0;32m--> 324\u001b[0m         gotit \u001b[39m=\u001b[39m waiter\u001b[39m.\u001b[39;49macquire(\u001b[39mTrue\u001b[39;49;00m, timeout)\n\u001b[1;32m    325\u001b[0m     \u001b[39melse\u001b[39;00m:\n\u001b[1;32m    326\u001b[0m         gotit \u001b[39m=\u001b[39m waiter\u001b[39m.\u001b[39macquire(\u001b[39mFalse\u001b[39;00m)\n",
      "\u001b[0;31mKeyboardInterrupt\u001b[0m: "
     ]
    }
   ],
   "source": [
    "hotels = list(df[\"Hotel\"].unique())\n",
    "\n",
    "test_size = 0.2\n",
    "val_size = 0.15\n",
    "for hotel in (pbar:= tqdm(hotels)):\n",
    "    images = list(df.loc[df[\"Hotel\"] == '76693']['Combined'])\n",
    "    test_images = np.random.choice(images, int(len(images)*test_size), replace=False)\n",
    "    train_images = list(set(images) - set(test_images))\n",
    "\n",
    "    val_images = np.random.choice(train_images, int(len(images)*val_size), replace=False)\n",
    "    train_images = list(set(train_images) - set(val_images))\n",
    "\n",
    "    for image in train_images:\n",
    "        pbar.set_description(f\"Creating mask for train pair {image}\")\n",
    "        image = image.split(\"/\")\n",
    "        hotel = image[0]\n",
    "        h_image = image[1]\n",
    "        \n",
    "    break"
   ]
  },
  {
   "cell_type": "code",
   "execution_count": 28,
   "metadata": {},
   "outputs": [
    {
     "data": {
      "text/plain": [
       "['76693', '000041658.jpg', '8268']"
      ]
     },
     "execution_count": 28,
     "metadata": {},
     "output_type": "execute_result"
    }
   ],
   "source": [
    "train_images[0].split(\"/\")"
   ]
  },
  {
   "cell_type": "code",
   "execution_count": null,
   "metadata": {},
   "outputs": [],
   "source": [
    "mask_path = \"/Volumes/Storage/Git Repos/AML/IM_Resize/masks/00000.png\"\n",
    "loaded_mask = load_and_invert_mask(mask_path)\n",
    "apply_mask(\"/Volumes/Storage/Git Repos/AML/IM_Resize/images/2515/000043495.jpg\", loaded_mask, \"masked_image.png\")\n"
   ]
  }
 ],
 "metadata": {
  "kernelspec": {
   "display_name": "Python 3",
   "language": "python",
   "name": "python3"
  },
  "language_info": {
   "codemirror_mode": {
    "name": "ipython",
    "version": 3
   },
   "file_extension": ".py",
   "mimetype": "text/x-python",
   "name": "python",
   "nbconvert_exporter": "python",
   "pygments_lexer": "ipython3",
   "version": "3.10.11"
  }
 },
 "nbformat": 4,
 "nbformat_minor": 2
}
